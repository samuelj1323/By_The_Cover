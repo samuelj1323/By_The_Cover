{
 "cells": [
  {
   "cell_type": "code",
   "execution_count": 1,
   "id": "dense-ladder",
   "metadata": {},
   "outputs": [
    {
     "name": "stdout",
     "output_type": "stream",
     "text": [
      "fin\n"
     ]
    }
   ],
   "source": [
    "import numpy as np\n",
    "def cos_mat(train_mat):\n",
    "    user_train_like = []\n",
    "    for u in range(len(train_mat)):\n",
    "        user_train_like.append(np.where(train_mat[u, :] > 0)[0])\n",
    "\n",
    "    numer = np.matmul(train_mat, train_mat.T)\n",
    "    denom = np.sum(train_mat ** 2, axis=1, keepdims=True) ** 0.5\n",
    "    Cosine = numer / np.matmul(denom, denom.T)\n",
    "    return Cosine\n",
    "\n",
    "\"\"\"#Here is a way to create recommendations based on the cosine function (not needed )\n",
    "recommendation = []\n",
    "for u in range(num_user):\n",
    "    similarities = Cosine[u, :]\n",
    "    similarities[u] = -1\n",
    "    N_idx = np.argpartition(similarities, -10)[-10:]\n",
    "    N_sim = similarities[N_idx]\n",
    "    scores = np.sum(N_sim.reshape((-1, 1)) * train_mat[N_idx, :], axis=0) / np.sum(N_sim)\n",
    "\n",
    "    train_like = user_train_like[u]\n",
    "    scores[train_like] = -9999\n",
    "    top50_iid = np.argpartition(scores, -50)[-50:]\n",
    "    top50_iid = top50_iid[np.argsort(scores[top50_iid])[-1::-1]]\n",
    "    recommendation.append(top50_iid)\n",
    "recommendation = np.array(recommendation)\n",
    "\"\"\"\n",
    "print(\"fin\")"
   ]
  },
  {
   "cell_type": "code",
   "execution_count": 2,
   "id": "hundred-circumstances",
   "metadata": {},
   "outputs": [],
   "source": [
    "def cos_array(array_2d): #takes in one 2d np array\n",
    "    d = array_2d.T @ array_2d\n",
    "    norm = (array_2d * array_2d).sum(0, keepdims=True) ** .5\n",
    "    return d / norm / norm.T\n",
    "    "
   ]
  },
  {
   "cell_type": "code",
   "execution_count": 5,
   "id": "important-passing",
   "metadata": {},
   "outputs": [
    {
     "name": "stdout",
     "output_type": "stream",
     "text": [
      "[[1.         0.99935263 0.99787511 0.99728263 0.99774544]\n",
      " [0.99935263 1.         0.99930407 0.99852672 0.99812953]\n",
      " [0.99787511 0.99930407 1.         0.99804949 0.99578657]\n",
      " [0.99728263 0.99852672 0.99804949 1.         0.99847273]\n",
      " [0.99774544 0.99812953 0.99578657 0.99847273 1.        ]]\n"
     ]
    }
   ],
   "source": [
    "m = np.array([\n",
    "        [ 0.0072427 ,  0.00669255,  0.00785213,  0.00845336,  0.01042869],\n",
    "        [ 0.00710799,  0.00668831,  0.00772334,  0.00777796,  0.01049965],\n",
    "        [ 0.00741872,  0.00650899,  0.00772273,  0.00729002,  0.00919407],\n",
    "        [ 0.00717589,  0.00627021,  0.0069514 ,  0.0079332 ,  0.01069545],\n",
    "        [ 0.00617369,  0.00590539,  0.00738468,  0.00761699,  0.00886915]\n",
    "    ])\n",
    "print(cos_array(m))"
   ]
  },
  {
   "cell_type": "markdown",
   "id": "domestic-support",
   "metadata": {},
   "source": [
    "Sorry for the confusion, Hopfully this helps."
   ]
  },
  {
   "cell_type": "code",
   "execution_count": null,
   "id": "universal-referral",
   "metadata": {},
   "outputs": [],
   "source": []
  }
 ],
 "metadata": {
  "kernelspec": {
   "display_name": "Python 3",
   "language": "python",
   "name": "python3"
  },
  "language_info": {
   "codemirror_mode": {
    "name": "ipython",
    "version": 3
   },
   "file_extension": ".py",
   "mimetype": "text/x-python",
   "name": "python",
   "nbconvert_exporter": "python",
   "pygments_lexer": "ipython3",
   "version": "3.8.5"
  }
 },
 "nbformat": 4,
 "nbformat_minor": 5
}

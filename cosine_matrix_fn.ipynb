{
 "cells": [
  {
   "cell_type": "code",
   "execution_count": 3,
   "id": "dense-ladder",
   "metadata": {},
   "outputs": [
    {
     "name": "stdout",
     "output_type": "stream",
     "text": [
      "fin\n"
     ]
    }
   ],
   "source": [
    "import numpy as np\n",
    "def cos_mat(train_mat):\n",
    "    user_train_like = []\n",
    "    for u in range(len(train_mat)):\n",
    "        user_train_like.append(np.where(train_mat[u, :] > 0)[0])\n",
    "\n",
    "    numer = np.matmul(train_mat, train_mat.T)\n",
    "    denom = np.sum(train_mat ** 2, axis=1, keepdims=True) ** 0.5\n",
    "    Cosine = numer / np.matmul(denom, denom.T)\n",
    "    return Cosine\n",
    "\n",
    "\"\"\"#Here is a way to create recommendations based on the cosine function (not needed )\n",
    "recommendation = []\n",
    "for u in range(num_user):\n",
    "    similarities = Cosine[u, :]\n",
    "    similarities[u] = -1\n",
    "    N_idx = np.argpartition(similarities, -10)[-10:]\n",
    "    N_sim = similarities[N_idx]\n",
    "    scores = np.sum(N_sim.reshape((-1, 1)) * train_mat[N_idx, :], axis=0) / np.sum(N_sim)\n",
    "\n",
    "    train_like = user_train_like[u]\n",
    "    scores[train_like] = -9999\n",
    "    top50_iid = np.argpartition(scores, -50)[-50:]\n",
    "    top50_iid = top50_iid[np.argsort(scores[top50_iid])[-1::-1]]\n",
    "    recommendation.append(top50_iid)\n",
    "recommendation = np.array(recommendation)\n",
    "\"\"\"\n",
    "print(\"fin\")"
   ]
  },
  {
   "cell_type": "code",
   "execution_count": null,
   "id": "hundred-circumstances",
   "metadata": {},
   "outputs": [],
   "source": []
  }
 ],
 "metadata": {
  "kernelspec": {
   "display_name": "Python 3",
   "language": "python",
   "name": "python3"
  },
  "language_info": {
   "codemirror_mode": {
    "name": "ipython",
    "version": 3
   },
   "file_extension": ".py",
   "mimetype": "text/x-python",
   "name": "python",
   "nbconvert_exporter": "python",
   "pygments_lexer": "ipython3",
   "version": "3.8.5"
  }
 },
 "nbformat": 4,
 "nbformat_minor": 5
}

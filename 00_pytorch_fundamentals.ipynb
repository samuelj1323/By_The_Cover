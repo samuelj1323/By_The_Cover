{
  "nbformat": 4,
  "nbformat_minor": 0,
  "metadata": {
    "colab": {
      "provenance": [],
      "gpuType": "T4",
      "authorship_tag": "ABX9TyO3ladXiHJ5feH1tYBzseAl",
      "include_colab_link": true
    },
    "kernelspec": {
      "name": "python3",
      "display_name": "Python 3"
    },
    "language_info": {
      "name": "python"
    },
    "accelerator": "GPU"
  },
  "cells": [
    {
      "cell_type": "markdown",
      "metadata": {
        "id": "view-in-github",
        "colab_type": "text"
      },
      "source": [
        "<a href=\"https://colab.research.google.com/github/samuelj1323/By_The_Cover/blob/main/00_pytorch_fundamentals.ipynb\" target=\"_parent\"><img src=\"https://colab.research.google.com/assets/colab-badge.svg\" alt=\"Open In Colab\"/></a>"
      ]
    },
    {
      "cell_type": "markdown",
      "source": [
        "## 00.Pytorch Fundamentals\n",
        "\n",
        "Resource notebook: https://www.learnpytorch.io/00_pytorch_fundamentals/\n",
        "If you have any questions: go to the course github\n"
      ],
      "metadata": {
        "id": "s_HXTkUmMx3J"
      }
    },
    {
      "cell_type": "code",
      "execution_count": null,
      "metadata": {
        "colab": {
          "base_uri": "https://localhost:8080/"
        },
        "id": "kRCQSdu6L-Nl",
        "outputId": "1f006f79-90da-4977-f08f-8c0852f0b948"
      },
      "outputs": [
        {
          "output_type": "stream",
          "name": "stdout",
          "text": [
            "2.1.0+cu118\n"
          ]
        }
      ],
      "source": [
        "import torch\n",
        "import pandas as pd\n",
        "import numpy as np\n",
        "import matplotlib.pyplot as plt\n",
        "print(torch.__version__)"
      ]
    },
    {
      "cell_type": "markdown",
      "source": [
        "## Intro to Tensors\n",
        "\n",
        "### Creating a tensor\n",
        "\n"
      ],
      "metadata": {
        "id": "iwsk74bgMpt7"
      }
    },
    {
      "cell_type": "code",
      "source": [
        "#Scalar\n",
        "\n",
        "scalar = torch.tensor(7)\n",
        "scalar"
      ],
      "metadata": {
        "colab": {
          "base_uri": "https://localhost:8080/"
        },
        "id": "2mnR6RsNORZ_",
        "outputId": "a4d8b3a7-c2f0-4d55-c488-f15a0af0310f"
      },
      "execution_count": null,
      "outputs": [
        {
          "output_type": "execute_result",
          "data": {
            "text/plain": [
              "tensor(7)"
            ]
          },
          "metadata": {},
          "execution_count": 2
        }
      ]
    },
    {
      "cell_type": "markdown",
      "source": [
        "Torch tensor: https://pytorch.org/docs/stable/tensors.html\n",
        "."
      ],
      "metadata": {
        "id": "-QYdMtwBOWUV"
      }
    },
    {
      "cell_type": "code",
      "source": [
        "scalar.ndim"
      ],
      "metadata": {
        "colab": {
          "base_uri": "https://localhost:8080/"
        },
        "id": "K2sayHw_OzCc",
        "outputId": "2267b5e4-f951-465e-abe4-04398fdc1f64"
      },
      "execution_count": null,
      "outputs": [
        {
          "output_type": "execute_result",
          "data": {
            "text/plain": [
              "0"
            ]
          },
          "metadata": {},
          "execution_count": 3
        }
      ]
    },
    {
      "cell_type": "code",
      "source": [
        "#get tensor back as python int\n",
        "scalar.item()"
      ],
      "metadata": {
        "colab": {
          "base_uri": "https://localhost:8080/"
        },
        "id": "PdfUntYgPKnK",
        "outputId": "2ce58b81-1efd-4f85-abbd-fccb88bf1786"
      },
      "execution_count": null,
      "outputs": [
        {
          "output_type": "execute_result",
          "data": {
            "text/plain": [
              "7"
            ]
          },
          "metadata": {},
          "execution_count": 4
        }
      ]
    },
    {
      "cell_type": "code",
      "source": [
        "# Vector\n",
        "vector = torch.tensor([7,7])\n",
        "#Typically has more than one number"
      ],
      "metadata": {
        "id": "12CyLh3hPZmT"
      },
      "execution_count": null,
      "outputs": []
    },
    {
      "cell_type": "code",
      "source": [
        "vector.ndim"
      ],
      "metadata": {
        "colab": {
          "base_uri": "https://localhost:8080/"
        },
        "id": "y6WNJQRyPWV8",
        "outputId": "f3f93bfa-b765-4a4c-b9fb-bbfa4886dc2b"
      },
      "execution_count": null,
      "outputs": [
        {
          "output_type": "execute_result",
          "data": {
            "text/plain": [
              "1"
            ]
          },
          "metadata": {},
          "execution_count": 6
        }
      ]
    },
    {
      "cell_type": "code",
      "source": [
        "vector.shape"
      ],
      "metadata": {
        "colab": {
          "base_uri": "https://localhost:8080/"
        },
        "id": "VaI4kOEAPng1",
        "outputId": "bb2c711c-7f51-4358-91de-29289ad6af89"
      },
      "execution_count": null,
      "outputs": [
        {
          "output_type": "execute_result",
          "data": {
            "text/plain": [
              "torch.Size([2])"
            ]
          },
          "metadata": {},
          "execution_count": 7
        }
      ]
    },
    {
      "cell_type": "code",
      "source": [
        "# Matrix\n",
        "\n",
        "MATRIX = torch.tensor([[7,8],\n",
        "[9,10]])\n",
        "MATRIX"
      ],
      "metadata": {
        "colab": {
          "base_uri": "https://localhost:8080/"
        },
        "id": "XVXalNYpPsDf",
        "outputId": "139d72c9-93e3-4016-bb44-b2d2e740e7d3"
      },
      "execution_count": null,
      "outputs": [
        {
          "output_type": "execute_result",
          "data": {
            "text/plain": [
              "tensor([[ 7,  8],\n",
              "        [ 9, 10]])"
            ]
          },
          "metadata": {},
          "execution_count": 8
        }
      ]
    },
    {
      "cell_type": "code",
      "source": [
        "MATRIX.ndim"
      ],
      "metadata": {
        "colab": {
          "base_uri": "https://localhost:8080/"
        },
        "id": "G88_F4a2P65v",
        "outputId": "4a730d56-6d41-4156-873c-b30638d92023"
      },
      "execution_count": null,
      "outputs": [
        {
          "output_type": "execute_result",
          "data": {
            "text/plain": [
              "2"
            ]
          },
          "metadata": {},
          "execution_count": 9
        }
      ]
    },
    {
      "cell_type": "code",
      "source": [
        "MATRIX[0]"
      ],
      "metadata": {
        "colab": {
          "base_uri": "https://localhost:8080/"
        },
        "id": "3frmB-0jP89S",
        "outputId": "d482e4ba-6272-4171-f38a-69414abebb19"
      },
      "execution_count": null,
      "outputs": [
        {
          "output_type": "execute_result",
          "data": {
            "text/plain": [
              "tensor([7, 8])"
            ]
          },
          "metadata": {},
          "execution_count": 10
        }
      ]
    },
    {
      "cell_type": "code",
      "source": [
        "MATRIX.shape"
      ],
      "metadata": {
        "colab": {
          "base_uri": "https://localhost:8080/"
        },
        "id": "DitMh8Q2P-pF",
        "outputId": "1bbd0dce-1eb6-4641-b71d-dceb547bd239"
      },
      "execution_count": null,
      "outputs": [
        {
          "output_type": "execute_result",
          "data": {
            "text/plain": [
              "torch.Size([2, 2])"
            ]
          },
          "metadata": {},
          "execution_count": 11
        }
      ]
    },
    {
      "cell_type": "code",
      "source": [
        "# TENSOR\n",
        "TENSOR = torch.tensor([[[1,2,3],\n",
        "                        [3,6,9],\n",
        "                        [2,4,5]]])\n",
        "TENSOR"
      ],
      "metadata": {
        "colab": {
          "base_uri": "https://localhost:8080/"
        },
        "id": "KLjhMEDtQDk3",
        "outputId": "abb8f40f-6e8d-46f6-f174-79ddddc4a647"
      },
      "execution_count": null,
      "outputs": [
        {
          "output_type": "execute_result",
          "data": {
            "text/plain": [
              "tensor([[[1, 2, 3],\n",
              "         [3, 6, 9],\n",
              "         [2, 4, 5]]])"
            ]
          },
          "metadata": {},
          "execution_count": 12
        }
      ]
    },
    {
      "cell_type": "code",
      "source": [
        "TENSOR.ndim"
      ],
      "metadata": {
        "colab": {
          "base_uri": "https://localhost:8080/"
        },
        "id": "u9zGx8R3QYhP",
        "outputId": "047bc290-91d6-40f0-815c-5a8d87779480"
      },
      "execution_count": null,
      "outputs": [
        {
          "output_type": "execute_result",
          "data": {
            "text/plain": [
              "3"
            ]
          },
          "metadata": {},
          "execution_count": 13
        }
      ]
    },
    {
      "cell_type": "code",
      "source": [
        "TENSOR.shape"
      ],
      "metadata": {
        "colab": {
          "base_uri": "https://localhost:8080/"
        },
        "id": "8cAkHy4SQg9f",
        "outputId": "73765a22-4718-4479-daba-4006ce1ea53e"
      },
      "execution_count": null,
      "outputs": [
        {
          "output_type": "execute_result",
          "data": {
            "text/plain": [
              "torch.Size([1, 3, 3])"
            ]
          },
          "metadata": {},
          "execution_count": 14
        }
      ]
    },
    {
      "cell_type": "code",
      "source": [
        "TENSOR[0]"
      ],
      "metadata": {
        "colab": {
          "base_uri": "https://localhost:8080/"
        },
        "id": "ybfrGE4yQitm",
        "outputId": "0bac7eb3-df31-4dd9-f176-118ee158edb0"
      },
      "execution_count": null,
      "outputs": [
        {
          "output_type": "execute_result",
          "data": {
            "text/plain": [
              "tensor([[1, 2, 3],\n",
              "        [3, 6, 9],\n",
              "        [2, 4, 5]])"
            ]
          },
          "metadata": {},
          "execution_count": 15
        }
      ]
    },
    {
      "cell_type": "markdown",
      "source": [
        "###Random Tensors\n",
        "\n",
        "Why random tensors?\n",
        "Random tensors are important because the way taht many NN learn is that htey start with tensors ful of rnadom numbers and hten adjust those random numbers to better represent the data.\n",
        "\n",
        "`Start with Random number -> look at data => update random numbers => look at data => update the random numbers `"
      ],
      "metadata": {
        "id": "jZQFZU0OTKIn"
      }
    },
    {
      "cell_type": "code",
      "source": [
        "#Create a random tensor of size (3,4)\n",
        "random_tensor = torch.rand(3,4)\n",
        "random_tensor"
      ],
      "metadata": {
        "colab": {
          "base_uri": "https://localhost:8080/"
        },
        "id": "Pl7Wn4SnTl5G",
        "outputId": "c42395bf-26a4-400d-c644-7f0f783b278d"
      },
      "execution_count": null,
      "outputs": [
        {
          "output_type": "execute_result",
          "data": {
            "text/plain": [
              "tensor([[0.3740, 0.0955, 0.0837, 0.2271],\n",
              "        [0.5073, 0.3099, 0.2271, 0.8040],\n",
              "        [0.4442, 0.3585, 0.9479, 0.8080]])"
            ]
          },
          "metadata": {},
          "execution_count": 16
        }
      ]
    },
    {
      "cell_type": "code",
      "source": [
        "random_tensor.ndim"
      ],
      "metadata": {
        "colab": {
          "base_uri": "https://localhost:8080/"
        },
        "id": "WbP1s0SrTiS9",
        "outputId": "888811d8-15a5-42c2-b1fd-8c60d323ff5d"
      },
      "execution_count": null,
      "outputs": [
        {
          "output_type": "execute_result",
          "data": {
            "text/plain": [
              "2"
            ]
          },
          "metadata": {},
          "execution_count": 17
        }
      ]
    },
    {
      "cell_type": "code",
      "source": [
        "#Create a random tensor with similar shape to an image tensor\n",
        "random_image_size_tensor = torch.rand(size=(224,224,3))\n",
        "random_image_size_tensor.shape, random_image_size_tensor.ndim"
      ],
      "metadata": {
        "colab": {
          "base_uri": "https://localhost:8080/"
        },
        "id": "mRLfE7jaTMAa",
        "outputId": "2e53c89e-c744-4c40-9f9e-6ea1ffdba5b2"
      },
      "execution_count": null,
      "outputs": [
        {
          "output_type": "execute_result",
          "data": {
            "text/plain": [
              "(torch.Size([224, 224, 3]), 3)"
            ]
          },
          "metadata": {},
          "execution_count": 18
        }
      ]
    },
    {
      "cell_type": "code",
      "source": [
        "torch.rand(2,3,2)"
      ],
      "metadata": {
        "colab": {
          "base_uri": "https://localhost:8080/"
        },
        "id": "8Vl-4s3cQpty",
        "outputId": "98578a1e-cdd8-4643-c4aa-dca608b51fe7"
      },
      "execution_count": null,
      "outputs": [
        {
          "output_type": "execute_result",
          "data": {
            "text/plain": [
              "tensor([[[0.1537, 0.9197],\n",
              "         [0.4820, 0.5876],\n",
              "         [0.4430, 0.7320]],\n",
              "\n",
              "        [[0.7473, 0.4535],\n",
              "         [0.1143, 0.8962],\n",
              "         [0.3401, 0.0807]]])"
            ]
          },
          "metadata": {},
          "execution_count": 19
        }
      ]
    },
    {
      "cell_type": "markdown",
      "source": [
        "### Zeros and ones\n"
      ],
      "metadata": {
        "id": "63xo5_eqUym-"
      }
    },
    {
      "cell_type": "code",
      "source": [
        "# Create a tensor of all zeros\n",
        "zero = torch.zeros(3,4)\n",
        "zero * random_tensor"
      ],
      "metadata": {
        "colab": {
          "base_uri": "https://localhost:8080/"
        },
        "id": "DYuHVCRpVOAs",
        "outputId": "4779c2a0-5745-4d70-9d76-b1036f435368"
      },
      "execution_count": null,
      "outputs": [
        {
          "output_type": "execute_result",
          "data": {
            "text/plain": [
              "tensor([[0., 0., 0., 0.],\n",
              "        [0., 0., 0., 0.],\n",
              "        [0., 0., 0., 0.]])"
            ]
          },
          "metadata": {},
          "execution_count": 20
        }
      ]
    },
    {
      "cell_type": "code",
      "source": [
        "# Create a tensor of all ones\n",
        "ones = torch.ones(size=(3,4))\n",
        "ones"
      ],
      "metadata": {
        "colab": {
          "base_uri": "https://localhost:8080/"
        },
        "id": "P0Xb_LI1VfrA",
        "outputId": "aeaf9224-87fd-4896-c177-97adf544ff68"
      },
      "execution_count": null,
      "outputs": [
        {
          "output_type": "execute_result",
          "data": {
            "text/plain": [
              "tensor([[1., 1., 1., 1.],\n",
              "        [1., 1., 1., 1.],\n",
              "        [1., 1., 1., 1.]])"
            ]
          },
          "metadata": {},
          "execution_count": 21
        }
      ]
    },
    {
      "cell_type": "code",
      "source": [
        "ones.dtype"
      ],
      "metadata": {
        "colab": {
          "base_uri": "https://localhost:8080/"
        },
        "id": "M-jvT7QWVkvw",
        "outputId": "e3727031-06a3-45cb-ae36-4193640f96d9"
      },
      "execution_count": null,
      "outputs": [
        {
          "output_type": "execute_result",
          "data": {
            "text/plain": [
              "torch.float32"
            ]
          },
          "metadata": {},
          "execution_count": 22
        }
      ]
    },
    {
      "cell_type": "markdown",
      "source": [
        "### Creating a range of tensors and tensors-like"
      ],
      "metadata": {
        "id": "xaiPSHp3Vl4f"
      }
    },
    {
      "cell_type": "code",
      "source": [
        "# Use torch.arange()\n",
        "one_to_ten = torch.arange(start=0,end=10, step=1)\n",
        "one_to_ten"
      ],
      "metadata": {
        "colab": {
          "base_uri": "https://localhost:8080/"
        },
        "id": "9zV7vUY7YO6M",
        "outputId": "de28e106-7933-4187-fa52-25859f00acd4"
      },
      "execution_count": null,
      "outputs": [
        {
          "output_type": "execute_result",
          "data": {
            "text/plain": [
              "tensor([0, 1, 2, 3, 4, 5, 6, 7, 8, 9])"
            ]
          },
          "metadata": {},
          "execution_count": 23
        }
      ]
    },
    {
      "cell_type": "code",
      "source": [],
      "metadata": {
        "id": "ylT07e1MYyCD"
      },
      "execution_count": null,
      "outputs": []
    },
    {
      "cell_type": "code",
      "source": [
        "# Creating tensors like (same shape)\n",
        "ten_zeros = torch.zeros_like(one_to_ten)\n",
        "ten_zeros"
      ],
      "metadata": {
        "colab": {
          "base_uri": "https://localhost:8080/"
        },
        "id": "0OaDGPEzYSHk",
        "outputId": "117c82be-cdb3-4567-fe88-ef765d3cf27d"
      },
      "execution_count": null,
      "outputs": [
        {
          "output_type": "execute_result",
          "data": {
            "text/plain": [
              "tensor([0, 0, 0, 0, 0, 0, 0, 0, 0, 0])"
            ]
          },
          "metadata": {},
          "execution_count": 24
        }
      ]
    },
    {
      "cell_type": "code",
      "source": [
        "#Float 32 tensor\n",
        "float_32_tensor = torch.tensor([3.0,6.0,9.0], dtype=None, device=None, requires_grad=False)\n",
        "float_32_tensor"
      ],
      "metadata": {
        "colab": {
          "base_uri": "https://localhost:8080/"
        },
        "id": "DJ8_ExD2Y7zR",
        "outputId": "081a3e10-cffa-45ed-ebe8-af28a102adad"
      },
      "execution_count": null,
      "outputs": [
        {
          "output_type": "execute_result",
          "data": {
            "text/plain": [
              "tensor([3., 6., 9.])"
            ]
          },
          "metadata": {},
          "execution_count": 25
        }
      ]
    },
    {
      "cell_type": "code",
      "source": [
        "float_32_tensor.dtype"
      ],
      "metadata": {
        "colab": {
          "base_uri": "https://localhost:8080/"
        },
        "id": "YyMC4Hd8ZeAK",
        "outputId": "0f9baa73-197f-4c1d-9a21-c51524743256"
      },
      "execution_count": null,
      "outputs": [
        {
          "output_type": "execute_result",
          "data": {
            "text/plain": [
              "torch.float32"
            ]
          },
          "metadata": {},
          "execution_count": 26
        }
      ]
    },
    {
      "cell_type": "markdown",
      "source": [
        "### Tensor datatype is one of the 3 big errors you run into with pytorch and deep learning\n",
        "\n",
        "1. Tensors not right datatype\n",
        "2. Tensors not right shape\n",
        "3. Tensors not on the right device"
      ],
      "metadata": {
        "id": "yFZxHLS3Zf5E"
      }
    },
    {
      "cell_type": "code",
      "source": [
        "float_16_tensor = float_32_tensor.type(torch.float16)\n",
        "float_16_tensor"
      ],
      "metadata": {
        "colab": {
          "base_uri": "https://localhost:8080/"
        },
        "id": "bJe8ehPBYyj7",
        "outputId": "bea07dfd-01d3-4598-edcd-d46cabbbfcc4"
      },
      "execution_count": null,
      "outputs": [
        {
          "output_type": "execute_result",
          "data": {
            "text/plain": [
              "tensor([3., 6., 9.], dtype=torch.float16)"
            ]
          },
          "metadata": {},
          "execution_count": 27
        }
      ]
    },
    {
      "cell_type": "code",
      "source": [
        "float_16_tensor * float_32_tensor"
      ],
      "metadata": {
        "colab": {
          "base_uri": "https://localhost:8080/"
        },
        "id": "ad1X3R5kbk9C",
        "outputId": "801d3606-8d4a-4da8-bcfe-ceafca745ffd"
      },
      "execution_count": null,
      "outputs": [
        {
          "output_type": "execute_result",
          "data": {
            "text/plain": [
              "tensor([ 9., 36., 81.])"
            ]
          },
          "metadata": {},
          "execution_count": 28
        }
      ]
    },
    {
      "cell_type": "code",
      "source": [
        "int_32_tensor = torch.tensor([3,6,9], dtype=torch.int32)\n",
        "int_32_tensor"
      ],
      "metadata": {
        "colab": {
          "base_uri": "https://localhost:8080/"
        },
        "id": "ryXnopXsb9X6",
        "outputId": "f01a72f7-306a-480a-fd89-c7cae11d555f"
      },
      "execution_count": null,
      "outputs": [
        {
          "output_type": "execute_result",
          "data": {
            "text/plain": [
              "tensor([3, 6, 9], dtype=torch.int32)"
            ]
          },
          "metadata": {},
          "execution_count": 29
        }
      ]
    },
    {
      "cell_type": "code",
      "source": [
        "float_32_tensor * int_32_tensor"
      ],
      "metadata": {
        "colab": {
          "base_uri": "https://localhost:8080/"
        },
        "id": "tan4Tja6ckzy",
        "outputId": "909786c5-b78b-4507-d08d-6d5ef041d08e"
      },
      "execution_count": null,
      "outputs": [
        {
          "output_type": "execute_result",
          "data": {
            "text/plain": [
              "tensor([ 9., 36., 81.])"
            ]
          },
          "metadata": {},
          "execution_count": 30
        }
      ]
    },
    {
      "cell_type": "markdown",
      "source": [
        "## Getting information from tensors:\n",
        "\n",
        "1. Tensors not right datatype - to get datatype from a tensor, can use `tensor.dtype`\n",
        "2. Tensors not right shape - get shape form a tensor, can use `tensor.shape`\n",
        "3. Tensors not on the right device - get gevice from a tensor, can use `tensor.device`"
      ],
      "metadata": {
        "id": "8aKz8YUCcnO5"
      }
    },
    {
      "cell_type": "code",
      "source": [
        "some_tensor = torch.rand(3,4)\n",
        "some_tensor"
      ],
      "metadata": {
        "colab": {
          "base_uri": "https://localhost:8080/"
        },
        "id": "Ycpug2ynbf_K",
        "outputId": "31f88a07-4ab6-43fe-da67-47f703e0f3f0"
      },
      "execution_count": null,
      "outputs": [
        {
          "output_type": "execute_result",
          "data": {
            "text/plain": [
              "tensor([[0.6335, 0.6863, 0.2964, 0.7420],\n",
              "        [0.3233, 0.1433, 0.4788, 0.3558],\n",
              "        [0.9145, 0.5960, 0.1852, 0.6567]])"
            ]
          },
          "metadata": {},
          "execution_count": 31
        }
      ]
    },
    {
      "cell_type": "code",
      "source": [
        "print(f\"Datatype of tensor: {some_tensor.dtype}\")\n",
        "print(f\"Shape of tensor: {some_tensor.shape}\")\n",
        "print(f\"Device of tensor: {some_tensor.device}\")"
      ],
      "metadata": {
        "colab": {
          "base_uri": "https://localhost:8080/"
        },
        "id": "8kbMYGTPdQbc",
        "outputId": "bcb38c17-a02e-4685-a35a-74c172584264"
      },
      "execution_count": null,
      "outputs": [
        {
          "output_type": "stream",
          "name": "stdout",
          "text": [
            "Datatype of tensor: torch.float32\n",
            "Shape of tensor: torch.Size([3, 4])\n",
            "Device of tensor: cpu\n"
          ]
        }
      ]
    },
    {
      "cell_type": "markdown",
      "source": [
        "### Manipulating tensors (tensor operations)\n",
        "\n",
        "Tensor operations include:\n",
        "* addtion\n",
        "* subtraction\n",
        "* Multiplication (element wise)\n",
        "* division\n",
        "* matrix multiplication"
      ],
      "metadata": {
        "id": "dBjvPlcydi8B"
      }
    },
    {
      "cell_type": "code",
      "source": [
        "# Create a tensor and add 10 to it\n",
        "tensor = torch.tensor([1,2,3])\n",
        "tensor + 100"
      ],
      "metadata": {
        "id": "Adcn4IpDdTAA",
        "colab": {
          "base_uri": "https://localhost:8080/"
        },
        "outputId": "38a8eae0-2be1-4c74-c9f7-8e51d0da750e"
      },
      "execution_count": null,
      "outputs": [
        {
          "output_type": "execute_result",
          "data": {
            "text/plain": [
              "tensor([101, 102, 103])"
            ]
          },
          "metadata": {},
          "execution_count": 33
        }
      ]
    },
    {
      "cell_type": "code",
      "source": [
        "# Mutltiply tensor by 10\n",
        "tensor *= 10"
      ],
      "metadata": {
        "id": "E9Vc5_lFZtD-"
      },
      "execution_count": null,
      "outputs": []
    },
    {
      "cell_type": "code",
      "source": [
        "tensor - 10"
      ],
      "metadata": {
        "colab": {
          "base_uri": "https://localhost:8080/"
        },
        "id": "B157IxvnZzEi",
        "outputId": "51e07142-ad2c-4dec-e81c-62b257441d93"
      },
      "execution_count": null,
      "outputs": [
        {
          "output_type": "execute_result",
          "data": {
            "text/plain": [
              "tensor([ 0, 10, 20])"
            ]
          },
          "metadata": {},
          "execution_count": 35
        }
      ]
    },
    {
      "cell_type": "code",
      "source": [
        "# Try out pytroch bulit in funcs\n",
        "# When you can, use the operators because they're more understandable.\n",
        "torch.mul(tensor, 10)"
      ],
      "metadata": {
        "colab": {
          "base_uri": "https://localhost:8080/"
        },
        "id": "gVAq1sD-Z88D",
        "outputId": "bddd0bd9-d7e3-412d-c403-22aad571c27a"
      },
      "execution_count": null,
      "outputs": [
        {
          "output_type": "execute_result",
          "data": {
            "text/plain": [
              "tensor([100, 200, 300])"
            ]
          },
          "metadata": {},
          "execution_count": 36
        }
      ]
    },
    {
      "cell_type": "markdown",
      "source": [
        "### Matrix multiplication\n",
        "\n",
        "Two main ways of performing matrix mult in NN and Deep learning\n",
        "\n",
        "1. Element Wise multiplication\n",
        "2. Matrix multiplication (dot product)\n"
      ],
      "metadata": {
        "id": "eZc7iR-RaDoP"
      }
    },
    {
      "cell_type": "code",
      "source": [
        "# Element wise mult\n",
        "\n",
        "print (f\"{tensor} * {tensor}\")\n",
        "print(f\"Equals: {tensor*tensor}\")"
      ],
      "metadata": {
        "colab": {
          "base_uri": "https://localhost:8080/"
        },
        "id": "Ir3u3fCSbEyx",
        "outputId": "f758c990-6d7b-45ab-c3d9-addef51fda0f"
      },
      "execution_count": null,
      "outputs": [
        {
          "output_type": "stream",
          "name": "stdout",
          "text": [
            "tensor([10, 20, 30]) * tensor([10, 20, 30])\n",
            "Equals: tensor([100, 400, 900])\n"
          ]
        }
      ]
    },
    {
      "cell_type": "code",
      "source": [
        "# Matrix multiplication\n",
        "torch.matmul(tensor, tensor)"
      ],
      "metadata": {
        "colab": {
          "base_uri": "https://localhost:8080/"
        },
        "id": "8THVr54BbPTO",
        "outputId": "7ef94a5c-0952-450b-af33-2596f2ff9fe2"
      },
      "execution_count": null,
      "outputs": [
        {
          "output_type": "execute_result",
          "data": {
            "text/plain": [
              "tensor(1400)"
            ]
          },
          "metadata": {},
          "execution_count": 38
        }
      ]
    },
    {
      "cell_type": "code",
      "source": [
        "# Matrix mult by hand\n",
        "1 * 1 + 2*2 + 3*3"
      ],
      "metadata": {
        "colab": {
          "base_uri": "https://localhost:8080/"
        },
        "id": "vGGPzST1bkwY",
        "outputId": "66d6e398-f2e1-42c5-f805-24d951d6b8c2"
      },
      "execution_count": null,
      "outputs": [
        {
          "output_type": "execute_result",
          "data": {
            "text/plain": [
              "14"
            ]
          },
          "metadata": {},
          "execution_count": 39
        }
      ]
    },
    {
      "cell_type": "code",
      "source": [
        "%%time\n",
        "value = 0\n",
        "for i in range(len(tensor)):\n",
        "  value += tensor[i] * tensor[i]\n",
        "print(value)"
      ],
      "metadata": {
        "colab": {
          "base_uri": "https://localhost:8080/"
        },
        "id": "qTr-M5G4brox",
        "outputId": "73ad79ef-7c80-44a0-a48d-30e36d6acc2e"
      },
      "execution_count": null,
      "outputs": [
        {
          "output_type": "stream",
          "name": "stdout",
          "text": [
            "tensor(1400)\n",
            "CPU times: user 1.81 ms, sys: 0 ns, total: 1.81 ms\n",
            "Wall time: 1.9 ms\n"
          ]
        }
      ]
    },
    {
      "cell_type": "code",
      "source": [
        "%%time\n",
        "torch.matmul(tensor, tensor)"
      ],
      "metadata": {
        "colab": {
          "base_uri": "https://localhost:8080/"
        },
        "id": "Le1bFXybcA5J",
        "outputId": "236af850-380b-44d5-df5c-038230447101"
      },
      "execution_count": null,
      "outputs": [
        {
          "output_type": "stream",
          "name": "stdout",
          "text": [
            "CPU times: user 87 µs, sys: 0 ns, total: 87 µs\n",
            "Wall time: 91.1 µs\n"
          ]
        },
        {
          "output_type": "execute_result",
          "data": {
            "text/plain": [
              "tensor(1400)"
            ]
          },
          "metadata": {},
          "execution_count": 41
        }
      ]
    },
    {
      "cell_type": "markdown",
      "source": [
        "### Rules that need to be satisfied with matrix multiplication\n",
        "@ symbol is another symbol for matrix multiplication\n",
        "1. Shape Errors (Inner dims must match)\n",
        "`3x2 @ 2x3 - will work\n",
        "3x2 @ 3x2 - won't work`\n",
        "2. The resulting matrix has the shape of the *** outer dimensions***\n",
        "`(2,3) @ (3,2) -> (2,2)`"
      ],
      "metadata": {
        "id": "zhKXlIatcWgY"
      }
    },
    {
      "cell_type": "code",
      "source": [
        "torch.matmul(torch.rand(2,3), torch.rand(3,2))"
      ],
      "metadata": {
        "colab": {
          "base_uri": "https://localhost:8080/"
        },
        "id": "sxb-95YtdKIt",
        "outputId": "7ccbba6b-b265-4ac1-bd83-567f0e3fde1f"
      },
      "execution_count": null,
      "outputs": [
        {
          "output_type": "execute_result",
          "data": {
            "text/plain": [
              "tensor([[0.8999, 0.6617],\n",
              "        [0.3029, 0.2970]])"
            ]
          },
          "metadata": {},
          "execution_count": 42
        }
      ]
    },
    {
      "cell_type": "code",
      "source": [
        "# Shape for matrix multiplication\n",
        "tensor_A = torch.tensor([[1,2],[3,4],[5,6]])\n",
        "tensor_B = torch.tensor([[7,10],[8,11],[9,12]])\n",
        "#torch.mm(tensor_A, tensor_B) ## torch.mm is same as matmul"
      ],
      "metadata": {
        "id": "Ern9nTvid25D"
      },
      "execution_count": null,
      "outputs": []
    },
    {
      "cell_type": "markdown",
      "source": [
        "To fix our tensor shape issues, we can manipulate the shape of one of our tensors using a transpose.\n",
        "\n",
        "A transpose switches the axes or dimensions of a given tensor."
      ],
      "metadata": {
        "id": "OgYR_idWfASP"
      }
    },
    {
      "cell_type": "code",
      "source": [
        "tensor_A.T"
      ],
      "metadata": {
        "colab": {
          "base_uri": "https://localhost:8080/"
        },
        "id": "cX-4upg-fONY",
        "outputId": "6efb304d-f3bb-4d7a-e88c-be5b196889ea"
      },
      "execution_count": null,
      "outputs": [
        {
          "output_type": "execute_result",
          "data": {
            "text/plain": [
              "tensor([[1, 3, 5],\n",
              "        [2, 4, 6]])"
            ]
          },
          "metadata": {},
          "execution_count": 47
        }
      ]
    },
    {
      "cell_type": "code",
      "source": [
        "tensor_A"
      ],
      "metadata": {
        "colab": {
          "base_uri": "https://localhost:8080/"
        },
        "id": "PUZTYnNMfQl-",
        "outputId": "c9fc36cd-eae6-48be-a58b-3a6dab60447c"
      },
      "execution_count": null,
      "outputs": [
        {
          "output_type": "execute_result",
          "data": {
            "text/plain": [
              "tensor([[1, 2],\n",
              "        [3, 4],\n",
              "        [5, 6]])"
            ]
          },
          "metadata": {},
          "execution_count": 48
        }
      ]
    },
    {
      "cell_type": "code",
      "source": [
        "# The matrix mult operation works when tensor_B is transposed\n",
        "print(f\"original shapes: tensor A = {tensor_A.shape}, tensor_B = {tensor_B.shape}\")\n",
        "print(f\"New shape: tensor_A = {tensor_A.shape} same shape as above, tensor_B.T = {tensor_B.T.shape}\")\n",
        "print(f\"multiplying: tensor_A @ tensor_B.T <- Inner dims must match\")\n",
        "print(\"output: \")\n",
        "print(torch.mm(tensor_A, tensor_B.T))"
      ],
      "metadata": {
        "colab": {
          "base_uri": "https://localhost:8080/"
        },
        "id": "dc0JgT3IfVC0",
        "outputId": "859e8a53-e0d2-44fd-9118-7df457d4bfa8"
      },
      "execution_count": null,
      "outputs": [
        {
          "output_type": "stream",
          "name": "stdout",
          "text": [
            "original shapes: tensor A = torch.Size([3, 2]), tensor_B = torch.Size([3, 2])\n",
            "New shape: tensor_A = torch.Size([3, 2]) same shape as above, tensor_B.T = torch.Size([2, 3])\n",
            "multiplying: tensor_A @ tensor_B.T <- Inner dims must match\n",
            "output: \n",
            "tensor([[ 27,  30,  33],\n",
            "        [ 61,  68,  75],\n",
            "        [ 95, 106, 117]])\n"
          ]
        }
      ]
    },
    {
      "cell_type": "markdown",
      "source": [
        "### Find the min, max, mean, sum, etc. (Tensor aggregtion)"
      ],
      "metadata": {
        "id": "sgEwoco1gVxA"
      }
    },
    {
      "cell_type": "code",
      "source": [
        "#create a tensor\n",
        "x = torch.arange(1,100,10)\n",
        "x.dtype"
      ],
      "metadata": {
        "colab": {
          "base_uri": "https://localhost:8080/"
        },
        "id": "naRhK1fTh4LD",
        "outputId": "31afd3bd-b4bb-4051-92fb-04aabdbd607d"
      },
      "execution_count": null,
      "outputs": [
        {
          "output_type": "execute_result",
          "data": {
            "text/plain": [
              "torch.int64"
            ]
          },
          "metadata": {},
          "execution_count": 50
        }
      ]
    },
    {
      "cell_type": "code",
      "source": [
        "#Find the min\n",
        "torch.min(x), x.min()"
      ],
      "metadata": {
        "colab": {
          "base_uri": "https://localhost:8080/"
        },
        "id": "fVYitZWyiFbF",
        "outputId": "df37c241-5b78-4270-8953-baeac935a0b9"
      },
      "execution_count": null,
      "outputs": [
        {
          "output_type": "execute_result",
          "data": {
            "text/plain": [
              "(tensor(1), tensor(1))"
            ]
          },
          "metadata": {},
          "execution_count": 51
        }
      ]
    },
    {
      "cell_type": "code",
      "source": [
        "torch.max(x), x.max()"
      ],
      "metadata": {
        "colab": {
          "base_uri": "https://localhost:8080/"
        },
        "id": "Mhefm9zNiP45",
        "outputId": "d31b6233-7136-4add-aabc-942c7266b3e4"
      },
      "execution_count": null,
      "outputs": [
        {
          "output_type": "execute_result",
          "data": {
            "text/plain": [
              "(tensor(91), tensor(91))"
            ]
          },
          "metadata": {},
          "execution_count": 52
        }
      ]
    },
    {
      "cell_type": "code",
      "source": [
        "#note, torch.mean requires a tensor of float32,\n",
        "torch.mean(x.type(torch.float32)), x.type(torch.float32).mean()"
      ],
      "metadata": {
        "colab": {
          "base_uri": "https://localhost:8080/"
        },
        "id": "lyW2dP1yiSkc",
        "outputId": "65d4893a-4bed-4fb1-df35-d3a90d1ed2f7"
      },
      "execution_count": null,
      "outputs": [
        {
          "output_type": "execute_result",
          "data": {
            "text/plain": [
              "(tensor(46.), tensor(46.))"
            ]
          },
          "metadata": {},
          "execution_count": 53
        }
      ]
    },
    {
      "cell_type": "code",
      "source": [
        "#Find the sum\n",
        "torch.sum(x), x.sum()"
      ],
      "metadata": {
        "colab": {
          "base_uri": "https://localhost:8080/"
        },
        "id": "LU5OtFlwiMqC",
        "outputId": "5c4fab2e-3268-4112-f4eb-ffcdb078cf1f"
      },
      "execution_count": null,
      "outputs": [
        {
          "output_type": "execute_result",
          "data": {
            "text/plain": [
              "(tensor(460), tensor(460))"
            ]
          },
          "metadata": {},
          "execution_count": 54
        }
      ]
    },
    {
      "cell_type": "markdown",
      "source": [
        "### Finding the positional min and max"
      ],
      "metadata": {
        "id": "jVgyoEMUi9BZ"
      }
    },
    {
      "cell_type": "code",
      "source": [
        "x.argmin()"
      ],
      "metadata": {
        "colab": {
          "base_uri": "https://localhost:8080/"
        },
        "id": "HRv__0ZjjUzs",
        "outputId": "99924cdf-22dc-4989-ba38-cc6a15715c7d"
      },
      "execution_count": null,
      "outputs": [
        {
          "output_type": "execute_result",
          "data": {
            "text/plain": [
              "tensor(0)"
            ]
          },
          "metadata": {},
          "execution_count": 55
        }
      ]
    },
    {
      "cell_type": "code",
      "source": [
        "x.argmax()"
      ],
      "metadata": {
        "colab": {
          "base_uri": "https://localhost:8080/"
        },
        "id": "Hzt60lCNjXjg",
        "outputId": "1e9f8944-709e-48e7-f365-b826070a406e"
      },
      "execution_count": null,
      "outputs": [
        {
          "output_type": "execute_result",
          "data": {
            "text/plain": [
              "tensor(9)"
            ]
          },
          "metadata": {},
          "execution_count": 56
        }
      ]
    },
    {
      "cell_type": "markdown",
      "source": [
        "### Reshaping, stacking, squeezing, and unsqueezing tensors\n",
        "* Reshaping - reshapes an input tensor to a defined shape\n",
        "* View - Return a view of an input tensor of certain shape but keep the same memory as the original tensor\n",
        "* Stacking - Combine multiple tensors on top of each other\n",
        "* Squeeze - removes all `1` dimensions from a tensor\n",
        "* Unsqueeze - add a `1` dimension to a target tensor\n",
        "* Permute - Return a view of the input with dimensions permuted (swapped) in a certain way"
      ],
      "metadata": {
        "id": "_S0EX9n4jY2y"
      }
    },
    {
      "cell_type": "code",
      "source": [
        "# Let's create a tensor\n",
        "import torch\n",
        "x = torch.arange(1., 10.)\n",
        "x, x.shape"
      ],
      "metadata": {
        "colab": {
          "base_uri": "https://localhost:8080/"
        },
        "id": "-RIJhr_ekBXz",
        "outputId": "e87416e0-540f-4a42-be1d-c21a8548b85e"
      },
      "execution_count": null,
      "outputs": [
        {
          "output_type": "execute_result",
          "data": {
            "text/plain": [
              "(tensor([1., 2., 3., 4., 5., 6., 7., 8., 9.]), torch.Size([9]))"
            ]
          },
          "metadata": {},
          "execution_count": 60
        }
      ]
    },
    {
      "cell_type": "code",
      "source": [
        "# Add an extra dim\n",
        "# The reshape has to be compatible with the original size.\n",
        "x_reshaped = x.reshape(3,3)\n",
        "x_reshaped, x_reshaped.shape"
      ],
      "metadata": {
        "colab": {
          "base_uri": "https://localhost:8080/"
        },
        "id": "AajpE8pUkM2_",
        "outputId": "732f6e2d-1637-486f-88aa-8646abe8d1fe"
      },
      "execution_count": null,
      "outputs": [
        {
          "output_type": "execute_result",
          "data": {
            "text/plain": [
              "(tensor([[1., 2., 3.],\n",
              "         [4., 5., 6.],\n",
              "         [7., 8., 9.]]),\n",
              " torch.Size([3, 3]))"
            ]
          },
          "metadata": {},
          "execution_count": 65
        }
      ]
    },
    {
      "cell_type": "code",
      "source": [
        "# Change the view\n",
        "z = x.view(1,9)\n",
        "z, z.shape"
      ],
      "metadata": {
        "colab": {
          "base_uri": "https://localhost:8080/"
        },
        "id": "rpbPYzxPkaKP",
        "outputId": "4fe4d97e-5750-4585-c54e-9dc00980c458"
      },
      "execution_count": null,
      "outputs": [
        {
          "output_type": "execute_result",
          "data": {
            "text/plain": [
              "(tensor([[1., 2., 3., 4., 5., 6., 7., 8., 9.]]), torch.Size([1, 9]))"
            ]
          },
          "metadata": {},
          "execution_count": 66
        }
      ]
    },
    {
      "cell_type": "code",
      "source": [
        "# Changing z changes x ( because a view of a tensor shares the same memory as input)\n",
        "z[:, 0] = 5\n",
        "z, x"
      ],
      "metadata": {
        "colab": {
          "base_uri": "https://localhost:8080/"
        },
        "id": "1D3h4XCTk_VT",
        "outputId": "a5f5b5f2-5231-40aa-f5c9-84c4adbaa6b1"
      },
      "execution_count": null,
      "outputs": [
        {
          "output_type": "execute_result",
          "data": {
            "text/plain": [
              "(tensor([[5., 2., 3., 4., 5., 6., 7., 8., 9.]]),\n",
              " tensor([5., 2., 3., 4., 5., 6., 7., 8., 9.]))"
            ]
          },
          "metadata": {},
          "execution_count": 67
        }
      ]
    },
    {
      "cell_type": "code",
      "source": [
        "# Stack tensors on top of each other\n",
        "x_stack = torch.stack([x,x,x,x], dim=1)\n",
        "x_stack"
      ],
      "metadata": {
        "colab": {
          "base_uri": "https://localhost:8080/"
        },
        "id": "W_1jy-_rlJmf",
        "outputId": "b2c23f4c-a63b-4ee3-b4c8-3e707e109b26"
      },
      "execution_count": null,
      "outputs": [
        {
          "output_type": "execute_result",
          "data": {
            "text/plain": [
              "tensor([[5., 5., 5., 5.],\n",
              "        [2., 2., 2., 2.],\n",
              "        [3., 3., 3., 3.],\n",
              "        [4., 4., 4., 4.],\n",
              "        [5., 5., 5., 5.],\n",
              "        [6., 6., 6., 6.],\n",
              "        [7., 7., 7., 7.],\n",
              "        [8., 8., 8., 8.],\n",
              "        [9., 9., 9., 9.]])"
            ]
          },
          "metadata": {},
          "execution_count": 72
        }
      ]
    },
    {
      "cell_type": "code",
      "source": [
        "random_tensor = torch.rand(1,1,5,2,1)\n",
        "random_tensor, random_tensor.shape"
      ],
      "metadata": {
        "colab": {
          "base_uri": "https://localhost:8080/"
        },
        "id": "AoDbs34JlhrM",
        "outputId": "baf4c0c1-26f0-4070-8b91-f8b6b09b4a15"
      },
      "execution_count": null,
      "outputs": [
        {
          "output_type": "execute_result",
          "data": {
            "text/plain": [
              "(tensor([[[[[0.7775],\n",
              "            [0.0310]],\n",
              " \n",
              "           [[0.8235],\n",
              "            [0.4433]],\n",
              " \n",
              "           [[0.7764],\n",
              "            [0.9541]],\n",
              " \n",
              "           [[0.9357],\n",
              "            [0.3938]],\n",
              " \n",
              "           [[0.0352],\n",
              "            [0.8359]]]]]),\n",
              " torch.Size([1, 1, 5, 2, 1]))"
            ]
          },
          "metadata": {},
          "execution_count": 76
        }
      ]
    },
    {
      "cell_type": "code",
      "source": [
        "random_squeeze = torch.squeeze(random_tensor)\n",
        "random_squeeze, random_squeeze.shape"
      ],
      "metadata": {
        "colab": {
          "base_uri": "https://localhost:8080/"
        },
        "id": "0RMHlA4ttzso",
        "outputId": "f2cb45de-9813-412e-becd-36910062451a"
      },
      "execution_count": null,
      "outputs": [
        {
          "output_type": "execute_result",
          "data": {
            "text/plain": [
              "(tensor([[0.7775, 0.0310],\n",
              "         [0.8235, 0.4433],\n",
              "         [0.7764, 0.9541],\n",
              "         [0.9357, 0.3938],\n",
              "         [0.0352, 0.8359]]),\n",
              " torch.Size([5, 2]))"
            ]
          },
          "metadata": {},
          "execution_count": 77
        }
      ]
    },
    {
      "cell_type": "code",
      "source": [
        "#Torch.unsqueeze - adds a single dim to a traget tensor at a specific dim.\n",
        "\n",
        "print(f\"previous target: {random_squeeze}\")\n",
        "print(f\"Previous shape: {random_squeeze.shape}\")\n",
        "\n",
        "#Add an extra dim with unsqueeze\n",
        "x_unsqueezed = random_squeeze.unsqueeze(dim=1)\n",
        "print(f\"new tensor: {x_unsqueezed}\")\n",
        "print(f\"new shape: {x_unsqueezed.shape}\")"
      ],
      "metadata": {
        "colab": {
          "base_uri": "https://localhost:8080/"
        },
        "id": "p-WJ4bItt2ot",
        "outputId": "5ee3ed65-fd16-43ef-dd2e-99742e07ba1d"
      },
      "execution_count": null,
      "outputs": [
        {
          "output_type": "stream",
          "name": "stdout",
          "text": [
            "previous target: tensor([[0.7775, 0.0310],\n",
            "        [0.8235, 0.4433],\n",
            "        [0.7764, 0.9541],\n",
            "        [0.9357, 0.3938],\n",
            "        [0.0352, 0.8359]])\n",
            "Previous shape: torch.Size([5, 2])\n",
            "new tensor: tensor([[[0.7775, 0.0310]],\n",
            "\n",
            "        [[0.8235, 0.4433]],\n",
            "\n",
            "        [[0.7764, 0.9541]],\n",
            "\n",
            "        [[0.9357, 0.3938]],\n",
            "\n",
            "        [[0.0352, 0.8359]]])\n",
            "new shape: torch.Size([5, 1, 2])\n"
          ]
        }
      ]
    },
    {
      "cell_type": "code",
      "source": [
        "# Torch.permute = rearragnes the dims of a target tensor in a specfied order\n",
        "\n",
        "x = torch.randn(size=(224,224, 3)) #[height, width, color channels]\n",
        "x.size()\n",
        "#Permute original tensor\n",
        "torch.permute(x, (2,0,1)).size() #Color channels, height , width"
      ],
      "metadata": {
        "colab": {
          "base_uri": "https://localhost:8080/"
        },
        "id": "xErcleJWlgMy",
        "outputId": "beaf3f6a-6473-4271-f64a-f1b8f8bd685b"
      },
      "execution_count": null,
      "outputs": [
        {
          "output_type": "execute_result",
          "data": {
            "text/plain": [
              "torch.Size([3, 224, 224])"
            ]
          },
          "metadata": {},
          "execution_count": 82
        }
      ]
    },
    {
      "cell_type": "markdown",
      "source": [
        "### Indexing (selecting data from tensors)\n",
        "\n",
        "Indexing with pytorch is similar to indexing with numpy"
      ],
      "metadata": {
        "id": "7oEcvNUBwHJ0"
      }
    },
    {
      "cell_type": "code",
      "source": [
        "# Create a tensor\n",
        "import torch\n",
        "x = torch.arange(1,10).reshape(1,3,3)\n",
        "x, x.shape"
      ],
      "metadata": {
        "colab": {
          "base_uri": "https://localhost:8080/"
        },
        "id": "C6QLJ6dowGD9",
        "outputId": "2798ff03-cc97-4087-c969-dd80861ba50c"
      },
      "execution_count": null,
      "outputs": [
        {
          "output_type": "execute_result",
          "data": {
            "text/plain": [
              "(tensor([[[1, 2, 3],\n",
              "          [4, 5, 6],\n",
              "          [7, 8, 9]]]),\n",
              " torch.Size([1, 3, 3]))"
            ]
          },
          "metadata": {},
          "execution_count": 84
        }
      ]
    },
    {
      "cell_type": "code",
      "source": [
        "# Lets index on our new tensor\n",
        "x[0]"
      ],
      "metadata": {
        "colab": {
          "base_uri": "https://localhost:8080/"
        },
        "id": "zodusGZ5ldeR",
        "outputId": "1c0aa8b7-9f69-4de8-dd91-ee697cb3ab50"
      },
      "execution_count": null,
      "outputs": [
        {
          "output_type": "execute_result",
          "data": {
            "text/plain": [
              "tensor([[1, 2, 3],\n",
              "        [4, 5, 6],\n",
              "        [7, 8, 9]])"
            ]
          },
          "metadata": {},
          "execution_count": 85
        }
      ]
    },
    {
      "cell_type": "code",
      "source": [
        "#LEt's index on our middle bracket (dim=1)\n",
        "x[0][0]"
      ],
      "metadata": {
        "colab": {
          "base_uri": "https://localhost:8080/"
        },
        "id": "4jbb0IDrlVqE",
        "outputId": "5e30542d-d16a-464a-8820-76d830ed3a3a"
      },
      "execution_count": null,
      "outputs": [
        {
          "output_type": "execute_result",
          "data": {
            "text/plain": [
              "tensor([1, 2, 3])"
            ]
          },
          "metadata": {},
          "execution_count": 86
        }
      ]
    },
    {
      "cell_type": "code",
      "source": [
        "#Let's index on our most inner bracket (dim=2)\n",
        "x[0][0][0]"
      ],
      "metadata": {
        "colab": {
          "base_uri": "https://localhost:8080/"
        },
        "id": "CkTebtallWwt",
        "outputId": "187c3e6a-b882-4d14-8f17-a71faa1ad067"
      },
      "execution_count": null,
      "outputs": [
        {
          "output_type": "execute_result",
          "data": {
            "text/plain": [
              "tensor(1)"
            ]
          },
          "metadata": {},
          "execution_count": 87
        }
      ]
    },
    {
      "cell_type": "code",
      "source": [
        "x[0][2][2]"
      ],
      "metadata": {
        "colab": {
          "base_uri": "https://localhost:8080/"
        },
        "id": "5g2gLQswkSdH",
        "outputId": "fd46413b-9780-4e96-a947-ab0a4eeb37d1"
      },
      "execution_count": null,
      "outputs": [
        {
          "output_type": "execute_result",
          "data": {
            "text/plain": [
              "tensor(9)"
            ]
          },
          "metadata": {},
          "execution_count": 88
        }
      ]
    },
    {
      "cell_type": "code",
      "source": [
        "# you can use a \":\" to select \"All\" of a target dimension\n",
        "x[:,:,0]"
      ],
      "metadata": {
        "colab": {
          "base_uri": "https://localhost:8080/"
        },
        "id": "d-p302HkjY8M",
        "outputId": "05908e0a-60c9-4fc1-c0ef-c66d70af22a1"
      },
      "execution_count": null,
      "outputs": [
        {
          "output_type": "execute_result",
          "data": {
            "text/plain": [
              "tensor([[1, 4, 7]])"
            ]
          },
          "metadata": {},
          "execution_count": 91
        }
      ]
    },
    {
      "cell_type": "code",
      "source": [
        "# Get all values of 0th and 1st dimensions but only index 1 of 2nd dimension\n",
        "x[:,:, 1]"
      ],
      "metadata": {
        "colab": {
          "base_uri": "https://localhost:8080/"
        },
        "id": "AjjbXocZyN1B",
        "outputId": "88038080-92f5-4c9a-b480-0576267b76f0"
      },
      "execution_count": null,
      "outputs": [
        {
          "output_type": "execute_result",
          "data": {
            "text/plain": [
              "tensor([[2, 5, 8]])"
            ]
          },
          "metadata": {},
          "execution_count": 92
        }
      ]
    },
    {
      "cell_type": "code",
      "source": [
        "#get all values of 0 dim but only 1 index fo 1st and 2nd dim\n",
        "x[:, 1, 1]"
      ],
      "metadata": {
        "colab": {
          "base_uri": "https://localhost:8080/"
        },
        "id": "mfvuyciCyadT",
        "outputId": "b258516c-74d1-47d3-ec77-fb081d018298"
      },
      "execution_count": null,
      "outputs": [
        {
          "output_type": "execute_result",
          "data": {
            "text/plain": [
              "tensor([5])"
            ]
          },
          "metadata": {},
          "execution_count": 93
        }
      ]
    },
    {
      "cell_type": "code",
      "source": [
        "# Get index of 0 of 0th and 1st dminesion and all values of 2nd dimension\n",
        "x[0, 0, :]"
      ],
      "metadata": {
        "colab": {
          "base_uri": "https://localhost:8080/"
        },
        "id": "SGPjzXgoyJSq",
        "outputId": "4bdd4a20-b0e7-46d5-9bd5-98a7fd105162"
      },
      "execution_count": null,
      "outputs": [
        {
          "output_type": "execute_result",
          "data": {
            "text/plain": [
              "tensor([1, 2, 3])"
            ]
          },
          "metadata": {},
          "execution_count": 94
        }
      ]
    },
    {
      "cell_type": "code",
      "source": [
        "#index on x to return 9\n",
        "print(f\"indexing to get 9: {x[:, 2, 2]}\")\n",
        "#index on x to return 3, 6, 9\n",
        "print(f\"indexing to get 3, 6, 9: {x[:, :, 2]}\")"
      ],
      "metadata": {
        "colab": {
          "base_uri": "https://localhost:8080/"
        },
        "id": "lIEu0I3ly13t",
        "outputId": "5fdcda97-320a-4986-d0b2-80a6edb15b31"
      },
      "execution_count": null,
      "outputs": [
        {
          "output_type": "stream",
          "name": "stdout",
          "text": [
            "indexing to get 9: tensor([9])\n",
            "indexing to get 3, 6, 9: tensor([[3, 6, 9]])\n"
          ]
        }
      ]
    },
    {
      "cell_type": "markdown",
      "source": [
        "### Pytorch tensors and numpy\n",
        "\n",
        "numpy is a popular scientific python numerical computing library\n",
        "and because of this, pytorch has functionality to interact with it.\n",
        "\n",
        "* Data in numpy, want in pytorch tensor -> torch.from_numpy\n",
        "* Pytorch tensor -> Numpy -> torch.tensor.numpy()\n"
      ],
      "metadata": {
        "id": "FwPJWrZ3zIZH"
      }
    },
    {
      "cell_type": "code",
      "source": [
        "import torch\n",
        "import numpy as np\n",
        "\n",
        "arr = np.arange(1.0,8.0)\n",
        "tensor = torch.from_numpy(arr) # Warning: when converting from numpy to pytorch, default type is float 64, not 32. change w/ .type()\n",
        "arr,tensor"
      ],
      "metadata": {
        "colab": {
          "base_uri": "https://localhost:8080/"
        },
        "id": "6v_0crT-znPy",
        "outputId": "7ab44233-b762-46e4-9693-19c0a2156f1a"
      },
      "execution_count": null,
      "outputs": [
        {
          "output_type": "execute_result",
          "data": {
            "text/plain": [
              "(array([1., 2., 3., 4., 5., 6., 7.]),\n",
              " tensor([1., 2., 3., 4., 5., 6., 7.], dtype=torch.float64))"
            ]
          },
          "metadata": {},
          "execution_count": 99
        }
      ]
    },
    {
      "cell_type": "code",
      "source": [
        "tensor.dtype"
      ],
      "metadata": {
        "colab": {
          "base_uri": "https://localhost:8080/"
        },
        "id": "7AQ1-_8m2E9d",
        "outputId": "6da32992-ea71-4381-a534-16b7b4207077"
      },
      "execution_count": null,
      "outputs": [
        {
          "output_type": "execute_result",
          "data": {
            "text/plain": [
              "torch.float64"
            ]
          },
          "metadata": {},
          "execution_count": 100
        }
      ]
    },
    {
      "cell_type": "code",
      "source": [
        "torch.arange(1.0,8.0).dtype"
      ],
      "metadata": {
        "colab": {
          "base_uri": "https://localhost:8080/"
        },
        "id": "ae4hpSKw2ZSQ",
        "outputId": "f066fdd6-9bb8-46f8-bd79-dd2e4cfea864"
      },
      "execution_count": null,
      "outputs": [
        {
          "output_type": "execute_result",
          "data": {
            "text/plain": [
              "torch.float32"
            ]
          },
          "metadata": {},
          "execution_count": 101
        }
      ]
    },
    {
      "cell_type": "code",
      "source": [
        "# Change the value of array, what will this do to tensor\n",
        "arr = arr +1\n",
        "\n",
        "arr, tensor"
      ],
      "metadata": {
        "colab": {
          "base_uri": "https://localhost:8080/"
        },
        "id": "iYFRf_nrznX7",
        "outputId": "d403cb30-b422-475c-e802-ecd27af3b327"
      },
      "execution_count": null,
      "outputs": [
        {
          "output_type": "execute_result",
          "data": {
            "text/plain": [
              "(array([2., 3., 4., 5., 6., 7., 8.]),\n",
              " tensor([1., 2., 3., 4., 5., 6., 7.], dtype=torch.float64))"
            ]
          },
          "metadata": {},
          "execution_count": 102
        }
      ]
    },
    {
      "cell_type": "code",
      "source": [
        "#tensor to numpy arr\n",
        "tensor = torch.ones(7)\n",
        "numpy_tensor = tensor.numpy()\n",
        "tensor, numpy_tensor"
      ],
      "metadata": {
        "colab": {
          "base_uri": "https://localhost:8080/"
        },
        "id": "ZvjX3dgA20Ne",
        "outputId": "9376f373-9aab-4423-d226-ffd79f8f4e46"
      },
      "execution_count": null,
      "outputs": [
        {
          "output_type": "execute_result",
          "data": {
            "text/plain": [
              "(tensor([1., 1., 1., 1., 1., 1., 1.]),\n",
              " array([1., 1., 1., 1., 1., 1., 1.], dtype=float32))"
            ]
          },
          "metadata": {},
          "execution_count": 103
        }
      ]
    },
    {
      "cell_type": "code",
      "source": [
        "# Change the tensor, what happens to numpy-tensor?\n",
        "\n",
        "tensor = tensor +1\n",
        "tensor, numpy_tensor"
      ],
      "metadata": {
        "colab": {
          "base_uri": "https://localhost:8080/"
        },
        "id": "_fWkGa8F3FGX",
        "outputId": "317a355a-cd4d-41e0-be04-df878a980083"
      },
      "execution_count": null,
      "outputs": [
        {
          "output_type": "execute_result",
          "data": {
            "text/plain": [
              "(tensor([2., 2., 2., 2., 2., 2., 2.]),\n",
              " array([1., 1., 1., 1., 1., 1., 1.], dtype=float32))"
            ]
          },
          "metadata": {},
          "execution_count": 104
        }
      ]
    },
    {
      "cell_type": "markdown",
      "source": [
        "###Reproducibility (trying to take the random out of random)\n",
        "\n",
        "In short how a nn works\n",
        "`start with random numbers -> tensor operations -> update random numbers to try and make them better representations of the data -> again ....`\n",
        "\n",
        "To reduce randomness in Nn and pytorch comes the concept of a *** Random Seed ***\n",
        "Essentially what the random seed does is 'flavour' the randomness"
      ],
      "metadata": {
        "id": "Qpv7L0fy3Pt4"
      }
    },
    {
      "cell_type": "code",
      "source": [
        "import torch\n",
        "\n",
        "#Create two random tensors\n",
        "random_tensor_A = torch.rand(3,4)\n",
        "random_tensor_B = torch.rand(3,4)\n",
        "\n",
        "print(random_tensor_A)\n",
        "print(random_tensor_B)\n",
        "print(random_tensor_A == random_tensor_B)"
      ],
      "metadata": {
        "colab": {
          "base_uri": "https://localhost:8080/"
        },
        "id": "CeiLNU9y3gr7",
        "outputId": "596625f5-a76e-4666-f401-ffea67f3fb62"
      },
      "execution_count": null,
      "outputs": [
        {
          "output_type": "stream",
          "name": "stdout",
          "text": [
            "tensor([[0.6493, 0.1885, 0.2287, 0.4294],\n",
            "        [0.6505, 0.0499, 0.2685, 0.9798],\n",
            "        [0.8418, 0.1911, 0.9277, 0.4705]])\n",
            "tensor([[0.3063, 0.9785, 0.1406, 0.0816],\n",
            "        [0.1686, 0.1333, 0.7936, 0.8672],\n",
            "        [0.5808, 0.5402, 0.6179, 0.3442]])\n",
            "tensor([[False, False, False, False],\n",
            "        [False, False, False, False],\n",
            "        [False, False, False, False]])\n"
          ]
        }
      ]
    },
    {
      "cell_type": "code",
      "source": [
        "# Let's make some random but reproducible tensors\n",
        "import torch\n",
        "\n",
        "#set the random seed\n",
        "RANDOM_SEED = 42\n",
        "\n",
        "torch.manual_seed(RANDOM_SEED)\n",
        "random_tensor_C = torch.rand(3,4)\n",
        "# IT needs to be called every time you want it to be used.\n",
        "torch.manual_seed(RANDOM_SEED)\n",
        "random_tensor_D = torch.rand(3,4)\n",
        "\n",
        "print(random_tensor_C)\n",
        "print(random_tensor_D)\n",
        "print(random_tensor_C== random_tensor_D)"
      ],
      "metadata": {
        "colab": {
          "base_uri": "https://localhost:8080/"
        },
        "id": "HQo-iuUH4XCx",
        "outputId": "4bb84972-a2b8-481b-c748-63aa619218d1"
      },
      "execution_count": null,
      "outputs": [
        {
          "output_type": "stream",
          "name": "stdout",
          "text": [
            "tensor([[0.8823, 0.9150, 0.3829, 0.9593],\n",
            "        [0.3904, 0.6009, 0.2566, 0.7936],\n",
            "        [0.9408, 0.1332, 0.9346, 0.5936]])\n",
            "tensor([[0.8823, 0.9150, 0.3829, 0.9593],\n",
            "        [0.3904, 0.6009, 0.2566, 0.7936],\n",
            "        [0.9408, 0.1332, 0.9346, 0.5936]])\n",
            "tensor([[True, True, True, True],\n",
            "        [True, True, True, True],\n",
            "        [True, True, True, True]])\n"
          ]
        }
      ]
    },
    {
      "cell_type": "markdown",
      "source": [
        "## Running tensors in GPUs\n",
        "GPUs = fast computation."
      ],
      "metadata": {
        "id": "KQ_R6VpW4-pG"
      }
    },
    {
      "cell_type": "markdown",
      "source": [
        "### 1. Getting a GPU\n",
        "1. Easiest - Use Google Colab for a free GPU (options to upgrade as well)\n",
        "2. Use your own GPU - takes a little bit of setup and requires the investment of purchaing a GPU\n",
        "3. use cloud computing - GCP, AWS, Azure\n",
        "\n",
        "\n"
      ],
      "metadata": {
        "id": "yCekVuZX3zPm"
      }
    },
    {
      "cell_type": "markdown",
      "source": [
        "For 2,3 Pytorch + GPU drivers (cuda) takes a little bit. Refer to pytorch documentation.\n",
        "\n"
      ],
      "metadata": {
        "id": "hm07BlEW6lNt"
      }
    },
    {
      "cell_type": "code",
      "source": [
        "!nvidia-smi"
      ],
      "metadata": {
        "id": "Mwl4RI-l66Gw",
        "outputId": "d7196aab-c829-4178-a55d-6437e7ad6ebe",
        "colab": {
          "base_uri": "https://localhost:8080/"
        }
      },
      "execution_count": null,
      "outputs": [
        {
          "output_type": "stream",
          "name": "stdout",
          "text": [
            "Sat Oct 28 15:34:22 2023       \n",
            "+-----------------------------------------------------------------------------+\n",
            "| NVIDIA-SMI 525.105.17   Driver Version: 525.105.17   CUDA Version: 12.0     |\n",
            "|-------------------------------+----------------------+----------------------+\n",
            "| GPU  Name        Persistence-M| Bus-Id        Disp.A | Volatile Uncorr. ECC |\n",
            "| Fan  Temp  Perf  Pwr:Usage/Cap|         Memory-Usage | GPU-Util  Compute M. |\n",
            "|                               |                      |               MIG M. |\n",
            "|===============================+======================+======================|\n",
            "|   0  Tesla T4            Off  | 00000000:00:04.0 Off |                    0 |\n",
            "| N/A   36C    P8    11W /  70W |      0MiB / 15360MiB |      0%      Default |\n",
            "|                               |                      |                  N/A |\n",
            "+-------------------------------+----------------------+----------------------+\n",
            "                                                                               \n",
            "+-----------------------------------------------------------------------------+\n",
            "| Processes:                                                                  |\n",
            "|  GPU   GI   CI        PID   Type   Process name                  GPU Memory |\n",
            "|        ID   ID                                                   Usage      |\n",
            "|=============================================================================|\n",
            "|  No running processes found                                                 |\n",
            "+-----------------------------------------------------------------------------+\n"
          ]
        }
      ]
    },
    {
      "cell_type": "markdown",
      "source": [
        "### 2. check for GPU access with pytorch\n"
      ],
      "metadata": {
        "id": "I4Vg2cvx7ApC"
      }
    },
    {
      "cell_type": "code",
      "source": [
        "import torch\n",
        "torch.cuda.is_available()"
      ],
      "metadata": {
        "id": "pisuPDDD7Vv_",
        "outputId": "536fcd9b-3de2-438e-a67f-8958db21c5cb",
        "colab": {
          "base_uri": "https://localhost:8080/"
        }
      },
      "execution_count": 1,
      "outputs": [
        {
          "output_type": "execute_result",
          "data": {
            "text/plain": [
              "True"
            ]
          },
          "metadata": {},
          "execution_count": 1
        }
      ]
    },
    {
      "cell_type": "code",
      "source": [
        "# Set up device agnostic code\n",
        "device = \"cuda\" if torch.cuda.is_available else \"cpu\"\n",
        "device"
      ],
      "metadata": {
        "id": "EpgRBoZR7alv",
        "outputId": "1632f2f0-d1bb-4042-cc7b-ee04fc33624e",
        "colab": {
          "base_uri": "https://localhost:8080/",
          "height": 35
        }
      },
      "execution_count": 2,
      "outputs": [
        {
          "output_type": "execute_result",
          "data": {
            "text/plain": [
              "'cuda'"
            ],
            "application/vnd.google.colaboratory.intrinsic+json": {
              "type": "string"
            }
          },
          "metadata": {},
          "execution_count": 2
        }
      ]
    },
    {
      "cell_type": "code",
      "source": [
        "# Count number of devices\n",
        "torch.cuda.device_count()"
      ],
      "metadata": {
        "id": "RL0F-3uB7qEJ",
        "outputId": "7506971f-f753-4bc1-909e-194f58e645b6",
        "colab": {
          "base_uri": "https://localhost:8080/"
        }
      },
      "execution_count": 3,
      "outputs": [
        {
          "output_type": "execute_result",
          "data": {
            "text/plain": [
              "1"
            ]
          },
          "metadata": {},
          "execution_count": 3
        }
      ]
    },
    {
      "cell_type": "markdown",
      "source": [
        "# putting tensors and models on the GPU\n",
        "The reason we want our tensors / modesl on the GPU, is because GPu is fater computations\n"
      ],
      "metadata": {
        "id": "VQZCmg6C7wyn"
      }
    },
    {
      "cell_type": "code",
      "source": [
        "# Create a tesor (defualt is CPU)\n",
        "tensor = torch.tensor([1,2,3], device=\"cpu\")\n",
        "# Tensor not on GPU\n",
        "print(tensor, tensor.device)"
      ],
      "metadata": {
        "id": "_mMzcdKy8TTQ",
        "outputId": "11ac1703-9970-4d38-e8d2-c63fba29e226",
        "colab": {
          "base_uri": "https://localhost:8080/"
        }
      },
      "execution_count": 4,
      "outputs": [
        {
          "output_type": "stream",
          "name": "stdout",
          "text": [
            "tensor([1, 2, 3]) cpu\n"
          ]
        }
      ]
    },
    {
      "cell_type": "code",
      "source": [
        "# mvoe tensor to gpu if available\n",
        "tensor_on_gpu = tensor.to(device)\n",
        "tensor_on_gpu"
      ],
      "metadata": {
        "id": "h5p5rzUh8hFZ",
        "outputId": "8f647f2f-c46f-48cc-c2d4-d6200a6686f4",
        "colab": {
          "base_uri": "https://localhost:8080/"
        }
      },
      "execution_count": 5,
      "outputs": [
        {
          "output_type": "execute_result",
          "data": {
            "text/plain": [
              "tensor([1, 2, 3], device='cuda:0')"
            ]
          },
          "metadata": {},
          "execution_count": 5
        }
      ]
    },
    {
      "cell_type": "markdown",
      "source": [
        "### 4. Moving tensors back to the CPU\n"
      ],
      "metadata": {
        "id": "jrD5V4Ef8t1w"
      }
    },
    {
      "cell_type": "code",
      "source": [
        "#If tensor is on GPU, can't transform it to numpy\n",
        "tensor_on_gpu.numpy()"
      ],
      "metadata": {
        "id": "ab-lfwF089d_",
        "outputId": "c6873358-fc9b-4834-85c1-6181d91f7c7a",
        "colab": {
          "base_uri": "https://localhost:8080/",
          "height": 197
        }
      },
      "execution_count": null,
      "outputs": [
        {
          "output_type": "error",
          "ename": "TypeError",
          "evalue": "ignored",
          "traceback": [
            "\u001b[0;31m---------------------------------------------------------------------------\u001b[0m",
            "\u001b[0;31mTypeError\u001b[0m                                 Traceback (most recent call last)",
            "\u001b[0;32m<ipython-input-8-bbbc39a5e4ee>\u001b[0m in \u001b[0;36m<cell line: 2>\u001b[0;34m()\u001b[0m\n\u001b[1;32m      1\u001b[0m \u001b[0;31m#If tensor is on GPU, can't transform it to numpy\u001b[0m\u001b[0;34m\u001b[0m\u001b[0;34m\u001b[0m\u001b[0m\n\u001b[0;32m----> 2\u001b[0;31m \u001b[0mtensor_on_gpu\u001b[0m\u001b[0;34m.\u001b[0m\u001b[0mnumpy\u001b[0m\u001b[0;34m(\u001b[0m\u001b[0;34m)\u001b[0m\u001b[0;34m\u001b[0m\u001b[0;34m\u001b[0m\u001b[0m\n\u001b[0m",
            "\u001b[0;31mTypeError\u001b[0m: can't convert cuda:0 device type tensor to numpy. Use Tensor.cpu() to copy the tensor to host memory first."
          ]
        }
      ]
    },
    {
      "cell_type": "code",
      "source": [
        "#To fix the GPU tesnor with numpy issue, we can first set it to the CPU.\n",
        "tensor_back_on_cpu = tensor_on_gpu.cpu().numpy()\n",
        "tensor_back_on_cpu"
      ],
      "metadata": {
        "id": "7Qsv_UJ09ElE",
        "colab": {
          "base_uri": "https://localhost:8080/"
        },
        "outputId": "f17a9dce-ba7e-4e18-dbb8-7da66be9f7bc"
      },
      "execution_count": 7,
      "outputs": [
        {
          "output_type": "execute_result",
          "data": {
            "text/plain": [
              "array([1, 2, 3])"
            ]
          },
          "metadata": {},
          "execution_count": 7
        }
      ]
    },
    {
      "cell_type": "code",
      "source": [
        "tensor_on_gpu"
      ],
      "metadata": {
        "colab": {
          "base_uri": "https://localhost:8080/"
        },
        "id": "hXhPMcNcKNvt",
        "outputId": "6caa77ed-6cf3-4b4c-a7f4-cc0b322a3be2"
      },
      "execution_count": 8,
      "outputs": [
        {
          "output_type": "execute_result",
          "data": {
            "text/plain": [
              "tensor([1, 2, 3], device='cuda:0')"
            ]
          },
          "metadata": {},
          "execution_count": 8
        }
      ]
    },
    {
      "cell_type": "markdown",
      "source": [
        "### Exercises"
      ],
      "metadata": {
        "id": "CioBO6EcKQT1"
      }
    },
    {
      "cell_type": "code",
      "source": [
        "# 2\n",
        "x = torch.rand(size=(7,7))\n",
        "x"
      ],
      "metadata": {
        "colab": {
          "base_uri": "https://localhost:8080/"
        },
        "id": "ypLhBkMvK8si",
        "outputId": "a539fcb2-7c95-4ab3-c968-d13976efdbd4"
      },
      "execution_count": 10,
      "outputs": [
        {
          "output_type": "execute_result",
          "data": {
            "text/plain": [
              "tensor([[0.8092, 0.5285, 0.6363, 0.8641, 0.2387, 0.2375, 0.6475],\n",
              "        [0.8989, 0.0223, 0.9838, 0.5245, 0.0463, 0.7394, 0.8387],\n",
              "        [0.0088, 0.0804, 0.6153, 0.1745, 0.0802, 0.2260, 0.7714],\n",
              "        [0.5675, 0.9763, 0.7632, 0.6945, 0.5308, 0.8170, 0.7464],\n",
              "        [0.1943, 0.4236, 0.9339, 0.9716, 0.1392, 0.0471, 0.0198],\n",
              "        [0.6196, 0.1441, 0.7642, 0.1724, 0.3039, 0.6834, 0.8680],\n",
              "        [0.0769, 0.9778, 0.4508, 0.9604, 0.2608, 0.6693, 0.1640]])"
            ]
          },
          "metadata": {},
          "execution_count": 10
        }
      ]
    },
    {
      "cell_type": "code",
      "source": [
        "y = torch.rand(size=(7,2))\n",
        "torch.mm(x,y)"
      ],
      "metadata": {
        "colab": {
          "base_uri": "https://localhost:8080/"
        },
        "id": "wxYtmjXNLIvJ",
        "outputId": "ef1c5ef5-93ab-4b56-9a02-52e562a64966"
      },
      "execution_count": 11,
      "outputs": [
        {
          "output_type": "execute_result",
          "data": {
            "text/plain": [
              "tensor([[2.0457, 1.4726],\n",
              "        [2.1744, 1.1060],\n",
              "        [1.0052, 0.5644],\n",
              "        [3.0544, 2.3305],\n",
              "        [1.5879, 0.9827],\n",
              "        [1.9875, 1.2516],\n",
              "        [2.2657, 1.7036]])"
            ]
          },
          "metadata": {},
          "execution_count": 11
        }
      ]
    },
    {
      "cell_type": "code",
      "source": [
        "RANDOM_SEED = 0\n",
        "\n",
        "torch.manual_seed(RANDOM_SEED)\n",
        "x = torch.rand(7, 2)\n",
        "torch.manual_seed(RANDOM_SEED)\n",
        "y = torch.rand(7, 2)\n",
        "\n",
        "print(f\"x: {x}\")\n",
        "print(f\"y: {y.T}\")\n",
        "print(f\"x == y.T {x == y}\")\n",
        "\n",
        "torch.matmul(x,y.T)"
      ],
      "metadata": {
        "colab": {
          "base_uri": "https://localhost:8080/"
        },
        "id": "4vJqm0t1LREe",
        "outputId": "90c7c380-8707-4344-b3ce-2853833a6b42"
      },
      "execution_count": 17,
      "outputs": [
        {
          "output_type": "stream",
          "name": "stdout",
          "text": [
            "x: tensor([[0.4963, 0.7682],\n",
            "        [0.0885, 0.1320],\n",
            "        [0.3074, 0.6341],\n",
            "        [0.4901, 0.8964],\n",
            "        [0.4556, 0.6323],\n",
            "        [0.3489, 0.4017],\n",
            "        [0.0223, 0.1689]])\n",
            "y: tensor([[0.4963, 0.0885, 0.3074, 0.4901, 0.4556, 0.3489, 0.0223],\n",
            "        [0.7682, 0.1320, 0.6341, 0.8964, 0.6323, 0.4017, 0.1689]])\n",
            "x == y.T tensor([[True, True],\n",
            "        [True, True],\n",
            "        [True, True],\n",
            "        [True, True],\n",
            "        [True, True],\n",
            "        [True, True],\n",
            "        [True, True]])\n"
          ]
        },
        {
          "output_type": "execute_result",
          "data": {
            "text/plain": [
              "tensor([[0.8364, 0.1453, 0.6397, 0.9319, 0.7119, 0.4817, 0.1408],\n",
              "        [0.1453, 0.0253, 0.1109, 0.1617, 0.1238, 0.0839, 0.0243],\n",
              "        [0.6397, 0.1109, 0.4966, 0.7191, 0.5410, 0.3620, 0.1139],\n",
              "        [0.9319, 0.1617, 0.7191, 1.0438, 0.7901, 0.5311, 0.1623],\n",
              "        [0.7119, 0.1238, 0.5410, 0.7901, 0.6074, 0.4130, 0.1169],\n",
              "        [0.4817, 0.0839, 0.3620, 0.5311, 0.4130, 0.2831, 0.0756],\n",
              "        [0.1408, 0.0243, 0.1139, 0.1623, 0.1169, 0.0756, 0.0290]])"
            ]
          },
          "metadata": {},
          "execution_count": 17
        }
      ]
    },
    {
      "cell_type": "code",
      "source": [
        "if torch.cuda.is_available :\n",
        "  RANDOM_SEED = 1234\n",
        "  torch.cuda.manual_seed(RANDOM_SEED)\n",
        "  x = torch.tensor([1,2,3,4], device=\"cuda\")\n",
        ""
      ],
      "metadata": {
        "id": "9J6um5WfL9FG"
      },
      "execution_count": 19,
      "outputs": []
    },
    {
      "cell_type": "code",
      "source": [
        "device = \"cuda\"\n",
        "x = torch.rand(2,3)\n",
        "y = torch.rand(2,3)\n",
        "x.to(device)\n",
        "y.to(device)\n",
        "RANDOM_SEED = 1234\n",
        "torch.cuda.manual_seed(RANDOM_SEED)\n",
        "z = torch.mm(x,y.T)"
      ],
      "metadata": {
        "id": "a7pgcmsrLtt_"
      },
      "execution_count": 25,
      "outputs": []
    },
    {
      "cell_type": "code",
      "source": [
        "min = torch.min(z)\n",
        "max = torch.max(z)\n",
        "min, max"
      ],
      "metadata": {
        "id": "6q21gT3bNPzt",
        "outputId": "a1dc8643-fc24-464c-f00c-412c03f59994",
        "colab": {
          "base_uri": "https://localhost:8080/"
        }
      },
      "execution_count": 26,
      "outputs": [
        {
          "output_type": "execute_result",
          "data": {
            "text/plain": [
              "(tensor(0.8921), tensor(1.2261))"
            ]
          },
          "metadata": {},
          "execution_count": 26
        }
      ]
    },
    {
      "cell_type": "code",
      "source": [
        "torch.manual_seed(7)\n",
        "rand_tensor = torch.rand(1,1,1,10)\n",
        "squeezed_rand = torch.squeeze(rand_tensor)\n",
        "print(rand_tensor)\n",
        "print(squeezed_rand)"
      ],
      "metadata": {
        "id": "whhKx9kUNudG",
        "outputId": "1273de84-5a2f-4c2c-e637-965130658df3",
        "colab": {
          "base_uri": "https://localhost:8080/"
        }
      },
      "execution_count": 29,
      "outputs": [
        {
          "output_type": "stream",
          "name": "stdout",
          "text": [
            "tensor([[[[0.5349, 0.1988, 0.6592, 0.6569, 0.2328, 0.4251, 0.2071, 0.6297,\n",
            "           0.3653, 0.8513]]]])\n",
            "tensor([0.5349, 0.1988, 0.6592, 0.6569, 0.2328, 0.4251, 0.2071, 0.6297, 0.3653,\n",
            "        0.8513])\n"
          ]
        }
      ]
    },
    {
      "cell_type": "code",
      "source": [],
      "metadata": {
        "id": "nF3cPVWbOOAU"
      },
      "execution_count": null,
      "outputs": []
    },
    {
      "cell_type": "code",
      "source": [
        "\n"
      ],
      "metadata": {
        "id": "g17EIj4rOCB8"
      },
      "execution_count": null,
      "outputs": []
    },
    {
      "cell_type": "code",
      "source": [],
      "metadata": {
        "id": "dOkk2YgrN-Pl"
      },
      "execution_count": null,
      "outputs": []
    }
  ]
}